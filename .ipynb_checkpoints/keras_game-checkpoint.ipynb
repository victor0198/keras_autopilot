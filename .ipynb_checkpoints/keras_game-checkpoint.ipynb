{
 "cells": [
  {
   "cell_type": "code",
   "execution_count": 1,
   "metadata": {},
   "outputs": [
    {
     "name": "stderr",
     "output_type": "stream",
     "text": [
      "Using TensorFlow backend.\n",
      "/home/dellen/Documents/venv/lib/python3.6/site-packages/tensorflow/python/framework/dtypes.py:523: FutureWarning: Passing (type, 1) or '1type' as a synonym of type is deprecated; in a future version of numpy, it will be understood as (type, (1,)) / '(1,)type'.\n",
      "  _np_qint8 = np.dtype([(\"qint8\", np.int8, 1)])\n",
      "/home/dellen/Documents/venv/lib/python3.6/site-packages/tensorflow/python/framework/dtypes.py:524: FutureWarning: Passing (type, 1) or '1type' as a synonym of type is deprecated; in a future version of numpy, it will be understood as (type, (1,)) / '(1,)type'.\n",
      "  _np_quint8 = np.dtype([(\"quint8\", np.uint8, 1)])\n",
      "/home/dellen/Documents/venv/lib/python3.6/site-packages/tensorflow/python/framework/dtypes.py:525: FutureWarning: Passing (type, 1) or '1type' as a synonym of type is deprecated; in a future version of numpy, it will be understood as (type, (1,)) / '(1,)type'.\n",
      "  _np_qint16 = np.dtype([(\"qint16\", np.int16, 1)])\n",
      "/home/dellen/Documents/venv/lib/python3.6/site-packages/tensorflow/python/framework/dtypes.py:526: FutureWarning: Passing (type, 1) or '1type' as a synonym of type is deprecated; in a future version of numpy, it will be understood as (type, (1,)) / '(1,)type'.\n",
      "  _np_quint16 = np.dtype([(\"quint16\", np.uint16, 1)])\n",
      "/home/dellen/Documents/venv/lib/python3.6/site-packages/tensorflow/python/framework/dtypes.py:527: FutureWarning: Passing (type, 1) or '1type' as a synonym of type is deprecated; in a future version of numpy, it will be understood as (type, (1,)) / '(1,)type'.\n",
      "  _np_qint32 = np.dtype([(\"qint32\", np.int32, 1)])\n",
      "/home/dellen/Documents/venv/lib/python3.6/site-packages/tensorflow/python/framework/dtypes.py:532: FutureWarning: Passing (type, 1) or '1type' as a synonym of type is deprecated; in a future version of numpy, it will be understood as (type, (1,)) / '(1,)type'.\n",
      "  np_resource = np.dtype([(\"resource\", np.ubyte, 1)])\n"
     ]
    }
   ],
   "source": [
    "from keras.preprocessing.image import ImageDataGenerator\n",
    "from keras.models import Sequential\n",
    "from keras.layers import Conv2D, MaxPooling2D\n",
    "from keras.layers import Flatten, Dense, Activation, BatchNormalization, Conv2D, Dropout\n",
    "from keras import backend as K\n",
    "import numpy as np\n",
    "from keras.preprocessing import image\n",
    "# import tensorflow as tf"
   ]
  },
  {
   "cell_type": "code",
   "execution_count": 2,
   "metadata": {},
   "outputs": [],
   "source": [
    "img_width, img_height = 640, 230\n",
    "train_data_dir = 'data_small/train'\n",
    "validation_data_dir = 'data_small/validation'\n",
    "nb_train_samples = 940\n",
    "nb_validation_samples = 230\n",
    "epochs = 30\n",
    "batch_size = 20"
   ]
  },
  {
   "cell_type": "code",
   "execution_count": 3,
   "metadata": {},
   "outputs": [],
   "source": [
    "if K.image_data_format() == 'channels_first':\n",
    "    input_shape = (3, img_width, img_height)\n",
    "else:\n",
    "    input_shape = (img_width, img_height, 3)    "
   ]
  },
  {
   "cell_type": "code",
   "execution_count": 4,
   "metadata": {},
   "outputs": [],
   "source": [
    "train_datagen = ImageDataGenerator(\n",
    "    rescale = 1. / 255,\n",
    "    zoom_range = 0.2)"
   ]
  },
  {
   "cell_type": "code",
   "execution_count": 5,
   "metadata": {},
   "outputs": [],
   "source": [
    "test_datagen = ImageDataGenerator(\n",
    "    rescale = 1. / 255)"
   ]
  },
  {
   "cell_type": "code",
   "execution_count": 6,
   "metadata": {},
   "outputs": [
    {
     "name": "stdout",
     "output_type": "stream",
     "text": [
      "Found 944 images belonging to 7 classes.\n"
     ]
    }
   ],
   "source": [
    "train_generator = train_datagen.flow_from_directory(\n",
    "    train_data_dir,\n",
    "    target_size = (img_width, img_height),\n",
    "    batch_size = batch_size,\n",
    "    class_mode = 'binary')"
   ]
  },
  {
   "cell_type": "code",
   "execution_count": 7,
   "metadata": {},
   "outputs": [
    {
     "name": "stdout",
     "output_type": "stream",
     "text": [
      "Found 232 images belonging to 7 classes.\n"
     ]
    }
   ],
   "source": [
    "validation_generator = test_datagen.flow_from_directory(\n",
    "    validation_data_dir,\n",
    "    target_size = (img_width, img_height),\n",
    "    batch_size = batch_size,\n",
    "    class_mode = 'binary')"
   ]
  },
  {
   "cell_type": "code",
   "execution_count": null,
   "metadata": {},
   "outputs": [],
   "source": []
  },
  {
   "cell_type": "code",
   "execution_count": 11,
   "metadata": {},
   "outputs": [
    {
     "name": "stdout",
     "output_type": "stream",
     "text": [
      "WARNING:tensorflow:From /home/dellen/Documents/venv/lib/python3.6/site-packages/keras/backend/tensorflow_backend.py:1062: calling reduce_prod (from tensorflow.python.ops.math_ops) with keep_dims is deprecated and will be removed in a future version.\n",
      "Instructions for updating:\n",
      "keep_dims is deprecated, use keepdims instead\n"
     ]
    }
   ],
   "source": [
    "# model = Sequential([\n",
    "#         Conv2D(24, kernel_size=(5,5), strides=(2,2), activation='relu', input_shape=input_shape),\n",
    "#         BatchNormalization(),\n",
    "#         Conv2D(36, kernel_size=(5,5), strides=(2,2), activation='relu'),\n",
    "#         BatchNormalization(),\n",
    "#         Conv2D(48, kernel_size=(5,5), strides=(2,2), activation='relu'),\n",
    "#         BatchNormalization(),\n",
    "#         Conv2D(64, kernel_size=(3,3), strides=(1,1), activation='relu'),\n",
    "#         BatchNormalization(),\n",
    "#         Conv2D(64, kernel_size=(3,3), strides=(1,1), activation='relu'),\n",
    "#         BatchNormalization(),\n",
    "#         Flatten(),\n",
    "#         Dense(100, activation='relu'),\n",
    "#         BatchNormalization(),\n",
    "#         Dense(50, activation='relu'),\n",
    "#         BatchNormalization(),\n",
    "#         Dense(10, activation='relu'),\n",
    "#         BatchNormalization(),\n",
    "#         Dense(7)\n",
    "#     ])\n",
    "# model.add(Activation('softmax'))\n",
    "\n",
    "model = Sequential()\n",
    "model.add(Conv2D(24, kernel_size=(5,5), strides=(2,2), input_shape = input_shape))\n",
    "model.add(Activation('relu'))\n",
    "model.add(MaxPooling2D(pool_size = (2,2)))\n",
    "\n",
    "model.add(Conv2D(36, kernel_size=(5,5), strides=(2,2)))\n",
    "model.add(Activation('relu'))\n",
    "model.add(MaxPooling2D(pool_size = (2,2)))\n",
    "model.add(Conv2D(48, kernel_size=(5,5), strides=(2,2)))\n",
    "model.add(Activation('relu'))\n",
    "model.add(MaxPooling2D(pool_size = (2,2)))\n",
    "model.add(Conv2D(64, kernel_size=(1,1), strides=(1,1)))\n",
    "model.add(Activation('relu'))\n",
    "model.add(MaxPooling2D(pool_size = (2,2)))\n",
    "\n",
    "model.add(Flatten())\n",
    "model.add(Dense(128))\n",
    "model.add(Activation('relu'))\n",
    "model.add(Dense(64))\n",
    "model.add(Activation('relu'))\n",
    "\n",
    "model.add(Dense(7))\n",
    "model.add(Activation('softmax'))"
   ]
  },
  {
   "cell_type": "code",
   "execution_count": 12,
   "metadata": {},
   "outputs": [
    {
     "name": "stdout",
     "output_type": "stream",
     "text": [
      "_________________________________________________________________\n",
      "Layer (type)                 Output Shape              Param #   \n",
      "=================================================================\n",
      "conv2d_13 (Conv2D)           (None, 318, 113, 24)      1824      \n",
      "_________________________________________________________________\n",
      "activation_11 (Activation)   (None, 318, 113, 24)      0         \n",
      "_________________________________________________________________\n",
      "max_pooling2d_11 (MaxPooling (None, 159, 56, 24)       0         \n",
      "_________________________________________________________________\n",
      "conv2d_14 (Conv2D)           (None, 78, 26, 36)        21636     \n",
      "_________________________________________________________________\n",
      "activation_12 (Activation)   (None, 78, 26, 36)        0         \n",
      "_________________________________________________________________\n",
      "max_pooling2d_12 (MaxPooling (None, 39, 13, 36)        0         \n",
      "_________________________________________________________________\n",
      "conv2d_15 (Conv2D)           (None, 18, 5, 48)         43248     \n",
      "_________________________________________________________________\n",
      "activation_13 (Activation)   (None, 18, 5, 48)         0         \n",
      "_________________________________________________________________\n",
      "max_pooling2d_13 (MaxPooling (None, 9, 2, 48)          0         \n",
      "_________________________________________________________________\n",
      "conv2d_16 (Conv2D)           (None, 9, 2, 64)          3136      \n",
      "_________________________________________________________________\n",
      "activation_14 (Activation)   (None, 9, 2, 64)          0         \n",
      "_________________________________________________________________\n",
      "max_pooling2d_14 (MaxPooling (None, 4, 1, 64)          0         \n",
      "_________________________________________________________________\n",
      "flatten_1 (Flatten)          (None, 256)               0         \n",
      "_________________________________________________________________\n",
      "dense_1 (Dense)              (None, 128)               32896     \n",
      "_________________________________________________________________\n",
      "activation_15 (Activation)   (None, 128)               0         \n",
      "_________________________________________________________________\n",
      "dense_2 (Dense)              (None, 64)                8256      \n",
      "_________________________________________________________________\n",
      "activation_16 (Activation)   (None, 64)                0         \n",
      "_________________________________________________________________\n",
      "dense_3 (Dense)              (None, 7)                 455       \n",
      "_________________________________________________________________\n",
      "activation_17 (Activation)   (None, 7)                 0         \n",
      "=================================================================\n",
      "Total params: 111,451.0\n",
      "Trainable params: 111,451.0\n",
      "Non-trainable params: 0.0\n",
      "_________________________________________________________________\n"
     ]
    }
   ],
   "source": [
    "model.summary()"
   ]
  },
  {
   "cell_type": "code",
   "execution_count": 13,
   "metadata": {},
   "outputs": [
    {
     "name": "stdout",
     "output_type": "stream",
     "text": [
      "WARNING:tensorflow:From /home/dellen/Documents/venv/lib/python3.6/site-packages/keras/backend/tensorflow_backend.py:1123: calling reduce_mean (from tensorflow.python.ops.math_ops) with keep_dims is deprecated and will be removed in a future version.\n",
      "Instructions for updating:\n",
      "keep_dims is deprecated, use keepdims instead\n",
      "WARNING:tensorflow:From /home/dellen/Documents/venv/lib/python3.6/site-packages/keras/backend/tensorflow_backend.py:1008: calling reduce_max (from tensorflow.python.ops.math_ops) with keep_dims is deprecated and will be removed in a future version.\n",
      "Instructions for updating:\n",
      "keep_dims is deprecated, use keepdims instead\n"
     ]
    }
   ],
   "source": [
    "model.compile(\n",
    "    loss = 'sparse_categorical_crossentropy',\n",
    "    optimizer = 'adam',\n",
    "    metrics = ['accuracy'])"
   ]
  },
  {
   "cell_type": "code",
   "execution_count": 14,
   "metadata": {},
   "outputs": [
    {
     "name": "stdout",
     "output_type": "stream",
     "text": [
      "Epoch 1/30\n",
      "47/47 [==============================] - 70s - loss: 1.4555 - acc: 0.5681 - val_loss: 1.2125 - val_acc: 0.5909\n",
      "Epoch 2/30\n",
      "47/47 [==============================] - 68s - loss: 0.9785 - acc: 0.7043 - val_loss: 0.6059 - val_acc: 0.8396\n",
      "Epoch 3/30\n",
      "47/47 [==============================] - 67s - loss: 0.6421 - acc: 0.7692 - val_loss: 0.6065 - val_acc: 0.7925\n",
      "Epoch 4/30\n",
      "47/47 [==============================] - 73s - loss: 0.5773 - acc: 0.7925 - val_loss: 0.6017 - val_acc: 0.7830\n",
      "Epoch 5/30\n",
      "47/47 [==============================] - 77s - loss: 0.5454 - acc: 0.8010 - val_loss: 0.5875 - val_acc: 0.7864\n",
      "Epoch 6/30\n",
      "47/47 [==============================] - 81s - loss: 0.4979 - acc: 0.8063 - val_loss: 0.4925 - val_acc: 0.8208\n",
      "Epoch 7/30\n",
      "47/47 [==============================] - 73s - loss: 0.5090 - acc: 0.8139 - val_loss: 0.4939 - val_acc: 0.7877\n",
      "Epoch 8/30\n",
      "47/47 [==============================] - 71s - loss: 0.4396 - acc: 0.8361 - val_loss: 0.5200 - val_acc: 0.8632\n",
      "Epoch 9/30\n",
      "47/47 [==============================] - 71s - loss: 0.4598 - acc: 0.8213 - val_loss: 0.4375 - val_acc: 0.8455\n",
      "Epoch 10/30\n",
      "47/47 [==============================] - 68s - loss: 0.4296 - acc: 0.8235 - val_loss: 0.5069 - val_acc: 0.8255\n",
      "Epoch 11/30\n",
      "47/47 [==============================] - 68s - loss: 0.3945 - acc: 0.8457 - val_loss: 0.4378 - val_acc: 0.7925\n",
      "Epoch 12/30\n",
      "47/47 [==============================] - 68s - loss: 0.3594 - acc: 0.8521 - val_loss: 0.5738 - val_acc: 0.8066\n",
      "Epoch 13/30\n",
      "47/47 [==============================] - 69s - loss: 0.3720 - acc: 0.8468 - val_loss: 0.5737 - val_acc: 0.8364\n",
      "Epoch 14/30\n",
      "47/47 [==============================] - 70s - loss: 0.3719 - acc: 0.8468 - val_loss: 0.6460 - val_acc: 0.8019\n",
      "Epoch 15/30\n",
      "47/47 [==============================] - 68s - loss: 0.3111 - acc: 0.8744 - val_loss: 0.4754 - val_acc: 0.8491\n",
      "Epoch 16/30\n",
      "47/47 [==============================] - 67s - loss: 0.3462 - acc: 0.8575 - val_loss: 0.5609 - val_acc: 0.8396\n",
      "Epoch 17/30\n",
      "47/47 [==============================] - 68s - loss: 0.3536 - acc: 0.8544 - val_loss: 0.5935 - val_acc: 0.8409\n",
      "Epoch 18/30\n",
      "47/47 [==============================] - 69s - loss: 0.3909 - acc: 0.8543 - val_loss: 0.4505 - val_acc: 0.8585\n",
      "Epoch 19/30\n",
      "47/47 [==============================] - 67s - loss: 0.3166 - acc: 0.8680 - val_loss: 0.5206 - val_acc: 0.8066\n",
      "Epoch 20/30\n",
      "47/47 [==============================] - 68s - loss: 0.3024 - acc: 0.8702 - val_loss: 0.5425 - val_acc: 0.8066\n",
      "Epoch 21/30\n",
      "47/47 [==============================] - 68s - loss: 0.3259 - acc: 0.8702 - val_loss: 0.4578 - val_acc: 0.8455\n",
      "Epoch 22/30\n",
      "47/47 [==============================] - 67s - loss: 0.2819 - acc: 0.8819 - val_loss: 0.3974 - val_acc: 0.8726\n",
      "Epoch 23/30\n",
      "47/47 [==============================] - 67s - loss: 0.3144 - acc: 0.8755 - val_loss: 0.6763 - val_acc: 0.8019\n",
      "Epoch 24/30\n",
      "47/47 [==============================] - 68s - loss: 0.2981 - acc: 0.8851 - val_loss: 0.4994 - val_acc: 0.8491\n",
      "Epoch 25/30\n",
      "47/47 [==============================] - 68s - loss: 0.2941 - acc: 0.8819 - val_loss: 0.4282 - val_acc: 0.8636\n",
      "Epoch 26/30\n",
      "47/47 [==============================] - 67s - loss: 0.2792 - acc: 0.8829 - val_loss: 0.4364 - val_acc: 0.8585\n",
      "Epoch 27/30\n",
      "47/47 [==============================] - 68s - loss: 0.2958 - acc: 0.8734 - val_loss: 0.4902 - val_acc: 0.7783\n",
      "Epoch 28/30\n",
      "47/47 [==============================] - 68s - loss: 0.2935 - acc: 0.8640 - val_loss: 0.4940 - val_acc: 0.8679\n",
      "Epoch 29/30\n",
      "47/47 [==============================] - 69s - loss: 0.2596 - acc: 0.8883 - val_loss: 0.4841 - val_acc: 0.8545\n",
      "Epoch 30/30\n",
      "47/47 [==============================] - 68s - loss: 0.2740 - acc: 0.8904 - val_loss: 0.4797 - val_acc: 0.8538\n"
     ]
    },
    {
     "data": {
      "text/plain": [
       "<keras.callbacks.History at 0x7f30275d4d30>"
      ]
     },
     "execution_count": 14,
     "metadata": {},
     "output_type": "execute_result"
    }
   ],
   "source": [
    "model.fit_generator(\n",
    "    train_generator,\n",
    "    steps_per_epoch = nb_train_samples // batch_size,\n",
    "    epochs = epochs,\n",
    "    validation_data = validation_generator,\n",
    "    validation_steps = nb_validation_samples // batch_size)"
   ]
  },
  {
   "cell_type": "code",
   "execution_count": 15,
   "metadata": {},
   "outputs": [],
   "source": [
    "model.save_weights('cm5.h5')"
   ]
  },
  {
   "cell_type": "code",
   "execution_count": 36,
   "metadata": {},
   "outputs": [],
   "source": [
    "model.save(\"saved_model.h5\")"
   ]
  },
  {
   "cell_type": "code",
   "execution_count": 34,
   "metadata": {},
   "outputs": [],
   "source": [
    "img_pred = image.load_img('data_small/validation/3/1584101685.1_6.175_9.704.png', target_size = (640, 230))\n",
    "img_pred = image.img_to_array(img_pred)\n",
    "img_pred = np.expand_dims(img_pred, axis = 0)"
   ]
  },
  {
   "cell_type": "code",
   "execution_count": 35,
   "metadata": {},
   "outputs": [
    {
     "name": "stdout",
     "output_type": "stream",
     "text": [
      "[[0. 0. 0. 1. 0. 0. 0.]]\n"
     ]
    }
   ],
   "source": [
    "rslt = model.predict(img_pred)\n",
    "print(rslt)"
   ]
  },
  {
   "cell_type": "code",
   "execution_count": null,
   "metadata": {},
   "outputs": [],
   "source": []
  }
 ],
 "metadata": {
  "kernelspec": {
   "display_name": "Python 3",
   "language": "python",
   "name": "python3"
  },
  "language_info": {
   "codemirror_mode": {
    "name": "ipython",
    "version": 3
   },
   "file_extension": ".py",
   "mimetype": "text/x-python",
   "name": "python",
   "nbconvert_exporter": "python",
   "pygments_lexer": "ipython3",
   "version": "3.6.9"
  }
 },
 "nbformat": 4,
 "nbformat_minor": 4
}
